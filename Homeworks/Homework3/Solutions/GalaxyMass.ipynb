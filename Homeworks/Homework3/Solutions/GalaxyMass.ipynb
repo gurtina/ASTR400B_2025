{
 "cells": [
  {
   "cell_type": "code",
   "execution_count": 1,
   "metadata": {},
   "outputs": [],
   "source": [
    "# Homework 3 Solutions\n",
    "# Computing the Mass of the Local Group\n",
    "# G. Besla with Rixin Li  and Hayden Foote"
   ]
  },
  {
   "cell_type": "code",
   "execution_count": 2,
   "metadata": {},
   "outputs": [],
   "source": [
    "# import relevant modules\n",
    "\n",
    "# numpy provides powerful multi-dimensional arrays to hold and manipulate data\n",
    "import numpy as np\n",
    "# astropy provides unit system for astronomical calculations\n",
    "import astropy.units as u\n",
    "# import previous HW functions\n",
    "from ReadFile import Read\n",
    "# import Latex module so we can display the results with symbols\n",
    "from IPython.display import Latex\n",
    "from IPython.display import display "
   ]
  },
  {
   "cell_type": "markdown",
   "metadata": {},
   "source": [
    "# Galaxy Mass"
   ]
  },
  {
   "cell_type": "code",
   "execution_count": 3,
   "metadata": {},
   "outputs": [],
   "source": [
    "\n",
    "def ComponentMass(filename, part_type):\n",
    "    \"\"\" Function to read the data from a given snapshot and return the total mass\n",
    "    of the specified particle type.\n",
    "    \n",
    "    INPUTS\n",
    "    ------\n",
    "    filename: 'str'\n",
    "        Name of the snapshot file to read\n",
    "    part_type: 'int: 1,2,3'\n",
    "        Particle type that will be summed to return mass\n",
    "        \n",
    "        \n",
    "    OUTPUTS\n",
    "    ------\n",
    "    mass: 'float'\n",
    "        Total mass of teh specified particle type in 1e12 solar masses\n",
    "    \"\"\"\n",
    "  \n",
    "    # read teh particle data from the specified file\n",
    "    time, total, data = Read(filename)\n",
    "    \n",
    "    # select particles with the same type and sum up the mass\n",
    "    mass = np.sum(data[data['type'] == part_type]['m'])\n",
    "    \n",
    "    # round and return the result in the correct units (1e12)\n",
    "    return np.round(mass*1e10/1e12, 3)"
   ]
  },
  {
   "cell_type": "code",
   "execution_count": 5,
   "metadata": {},
   "outputs": [],
   "source": [
    "# MW: Compute Mass for each component\n",
    "MW_halo = ComponentMass(\"MW_000.txt\",1)\n",
    "MW_disk = ComponentMass(\"MW_000.txt\",2)\n",
    "MW_bulge = ComponentMass(\"MW_000.txt\",3)"
   ]
  },
  {
   "cell_type": "code",
   "execution_count": 6,
   "metadata": {},
   "outputs": [
    {
     "data": {
      "text/latex": [
       "MW halo Mass: $1.975\\times 10^{12}M_{\\odot}$"
      ],
      "text/plain": [
       "<IPython.core.display.Latex object>"
      ]
     },
     "metadata": {},
     "output_type": "display_data"
    },
    {
     "data": {
      "text/latex": [
       "MW disk Mass: $0.075\\times 10^{12}M_{\\odot}$"
      ],
      "text/plain": [
       "<IPython.core.display.Latex object>"
      ]
     },
     "metadata": {},
     "output_type": "display_data"
    },
    {
     "data": {
      "text/latex": [
       "MW bulge Mass: $0.010\\times 10^{12}M_{\\odot}$"
      ],
      "text/plain": [
       "<IPython.core.display.Latex object>"
      ]
     },
     "metadata": {},
     "output_type": "display_data"
    }
   ],
   "source": [
    "display(Latex(\n",
    "    r\"MW halo Mass: ${:.3f}\\times 10^{{12}}M_{{\\odot}}$\".format(MW_halo)))\n",
    "display(Latex(\n",
    "    r\"MW disk Mass: ${:.3f}\\times 10^{{12}}M_{{\\odot}}$\".format(MW_disk)))\n",
    "display(Latex(\n",
    "    r\"MW bulge Mass: ${:.3f}\\times 10^{{12}}M_{{\\odot}}$\".format(MW_bulge)))"
   ]
  },
  {
   "cell_type": "code",
   "execution_count": 7,
   "metadata": {},
   "outputs": [],
   "source": [
    "# Total MW Mass \n",
    "MW_total = MW_halo + MW_disk + MW_bulge\n",
    "# MW Baryon Fraction\n",
    "MW_f_bar = (MW_disk + MW_bulge) / MW_total"
   ]
  },
  {
   "cell_type": "code",
   "execution_count": 8,
   "metadata": {},
   "outputs": [
    {
     "data": {
      "text/latex": [
       "MW total Mass: $2.060\\times 10^{12}M_{\\odot}$"
      ],
      "text/plain": [
       "<IPython.core.display.Latex object>"
      ]
     },
     "metadata": {},
     "output_type": "display_data"
    },
    {
     "data": {
      "text/latex": [
       "MW baryon fraction $f_{bar} = 0.041$"
      ],
      "text/plain": [
       "<IPython.core.display.Latex object>"
      ]
     },
     "metadata": {},
     "output_type": "display_data"
    }
   ],
   "source": [
    "display(Latex(\n",
    "    r\"MW total Mass: ${:.3f}\\times 10^{{12}}M_{{\\odot}}$\".format(MW_total)))\n",
    "display(Latex(\n",
    "    r\"MW baryon fraction $f_{{bar}} = {:.3f}$\".format(MW_f_bar)))"
   ]
  },
  {
   "cell_type": "code",
   "execution_count": 9,
   "metadata": {},
   "outputs": [],
   "source": [
    "# M31: Compute Mass for each component\n",
    "M31_halo = ComponentMass(\"M31_000.txt\",1)\n",
    "M31_disk = ComponentMass(\"M31_000.txt\",2)\n",
    "M31_bulge = ComponentMass(\"M31_000.txt\",3)"
   ]
  },
  {
   "cell_type": "code",
   "execution_count": 10,
   "metadata": {},
   "outputs": [
    {
     "data": {
      "text/latex": [
       "M31 Halo Mass: $1.921\\times 10^{12}M_{\\odot}$"
      ],
      "text/plain": [
       "<IPython.core.display.Latex object>"
      ]
     },
     "metadata": {},
     "output_type": "display_data"
    },
    {
     "data": {
      "text/latex": [
       "M31 Disk Mass: $0.120\\times 10^{12}M_{\\odot}$"
      ],
      "text/plain": [
       "<IPython.core.display.Latex object>"
      ]
     },
     "metadata": {},
     "output_type": "display_data"
    },
    {
     "data": {
      "text/latex": [
       "M31 Bulge Mass: $0.019\\times 10^{12}M_{\\odot}$"
      ],
      "text/plain": [
       "<IPython.core.display.Latex object>"
      ]
     },
     "metadata": {},
     "output_type": "display_data"
    }
   ],
   "source": [
    "display(Latex(\n",
    "    r\"M31 Halo Mass: ${:.3f}\\times 10^{{12}}M_{{\\odot}}$\".format(M31_halo)))\n",
    "display(Latex(\n",
    "    r\"M31 Disk Mass: ${:.3f}\\times 10^{{12}}M_{{\\odot}}$\".format(M31_disk)))\n",
    "display(Latex(\n",
    "    r\"M31 Bulge Mass: ${:.3f}\\times 10^{{12}}M_{{\\odot}}$\".format(M31_bulge)))"
   ]
  },
  {
   "cell_type": "code",
   "execution_count": 11,
   "metadata": {},
   "outputs": [],
   "source": [
    "# Total M31 Mass\n",
    "M31_total = M31_halo + M31_disk + M31_bulge\n",
    "# M31 Baryon Fraction \n",
    "M31_f_bar = (M31_disk + M31_bulge) / M31_total"
   ]
  },
  {
   "cell_type": "code",
   "execution_count": 12,
   "metadata": {},
   "outputs": [
    {
     "data": {
      "text/latex": [
       "M31 Total Mass: $2.060\\times 10^{12}M_{\\odot}$"
      ],
      "text/plain": [
       "<IPython.core.display.Latex object>"
      ]
     },
     "metadata": {},
     "output_type": "display_data"
    },
    {
     "data": {
      "text/latex": [
       "M31 baryon fraction $f_{bar} = 0.067$"
      ],
      "text/plain": [
       "<IPython.core.display.Latex object>"
      ]
     },
     "metadata": {},
     "output_type": "display_data"
    }
   ],
   "source": [
    "display(Latex(\n",
    "    r\"M31 Total Mass: ${:.3f}\\times 10^{{12}}M_{{\\odot}}$\".format(M31_total)))\n",
    "display(Latex(\n",
    "    r\"M31 baryon fraction $f_{{bar}} = {:.3f}$\".format(M31_f_bar)))"
   ]
  },
  {
   "cell_type": "code",
   "execution_count": 13,
   "metadata": {},
   "outputs": [],
   "source": [
    "# M33: Compute Mass for each component\n",
    "M33_halo = ComponentMass(\"M33_000.txt\",1)\n",
    "M33_disk = ComponentMass(\"M33_000.txt\",2)"
   ]
  },
  {
   "cell_type": "code",
   "execution_count": 14,
   "metadata": {},
   "outputs": [
    {
     "data": {
      "text/latex": [
       "M33 Halo Mass: $0.187\\times 10^{12}M_{\\odot}$"
      ],
      "text/plain": [
       "<IPython.core.display.Latex object>"
      ]
     },
     "metadata": {},
     "output_type": "display_data"
    },
    {
     "data": {
      "text/latex": [
       "M33 Disk Mass: $0.009\\times 10^{12}M_{\\odot}$"
      ],
      "text/plain": [
       "<IPython.core.display.Latex object>"
      ]
     },
     "metadata": {},
     "output_type": "display_data"
    }
   ],
   "source": [
    "display(Latex(\n",
    "    r\"M33 Halo Mass: ${:.3f}\\times 10^{{12}}M_{{\\odot}}$\".format(M33_halo)))\n",
    "display(Latex(\n",
    "    r\"M33 Disk Mass: ${:.3f}\\times 10^{{12}}M_{{\\odot}}$\".format(M33_disk)))"
   ]
  },
  {
   "cell_type": "code",
   "execution_count": 20,
   "metadata": {},
   "outputs": [],
   "source": [
    "# Total M33 Mass\n",
    "M33_total = M33_halo + M33_disk\n",
    "# M33 Baryon Fraction \n",
    "M33_f_bar = M33_disk / M33_total"
   ]
  },
  {
   "cell_type": "code",
   "execution_count": 16,
   "metadata": {},
   "outputs": [
    {
     "data": {
      "text/latex": [
       "M33 Total Mass: $0.196\\times 10^{12}M_{\\odot}$"
      ],
      "text/plain": [
       "<IPython.core.display.Latex object>"
      ]
     },
     "metadata": {},
     "output_type": "display_data"
    },
    {
     "data": {
      "text/latex": [
       "M33 baryon fraction $f_{bar} = 0.046$"
      ],
      "text/plain": [
       "<IPython.core.display.Latex object>"
      ]
     },
     "metadata": {},
     "output_type": "display_data"
    }
   ],
   "source": [
    "display(Latex(\n",
    "    r\"M33 Total Mass: ${:.3f}\\times 10^{{12}}M_{{\\odot}}$\".format(M33_total)))\n",
    "display(Latex(\n",
    "    r\"M33 baryon fraction $f_{{bar}} = {:.3f}$\".format(M33_f_bar)))"
   ]
  },
  {
   "cell_type": "code",
   "execution_count": 17,
   "metadata": {},
   "outputs": [
    {
     "data": {
      "text/latex": [
       "Local Group Mass: $4.316\\times 10^{12}M_{\\odot}$"
      ],
      "text/plain": [
       "<IPython.core.display.Latex object>"
      ]
     },
     "metadata": {},
     "output_type": "display_data"
    }
   ],
   "source": [
    "# Total mass for the Local Group\n",
    "LG_total = MW_total + M31_total + M33_total\n",
    "display(Latex(\n",
    "    r\"Local Group Mass: ${:.3f}\\times 10^{{12}}M_{{\\odot}}$\".format(LG_total)))"
   ]
  },
  {
   "cell_type": "code",
   "execution_count": 23,
   "metadata": {},
   "outputs": [],
   "source": [
    "# Baryon fraction for the Local Group \n",
    "LG_f_bar = (MW_disk + MW_bulge + M31_disk + M31_bulge + M33_disk) / LG_total"
   ]
  },
  {
   "cell_type": "code",
   "execution_count": 24,
   "metadata": {},
   "outputs": [
    {
     "name": "stdout",
     "output_type": "stream",
     "text": [
      "\n",
      "Galaxy Name  | Halo Mass   |  Disk Mass   | Bulge Mass  | Total Mass  | f_bar \n",
      "             | [1e12 Msun] |  [1e12 Msun] | [1e12 Msun] | [1e12 Msun] |       \n",
      "-------------|-------------|--------------|-------------|-------------|-------\n",
      " Milky Way   | 1.975       | 0.075        | 0.010       | 2.060       | 0.041   \n",
      " M31         | 1.921       | 0.120        | 0.019       | 2.060       | 0.067   \n",
      " M33         | 0.187       | 0.009        | -           | 0.196       | 0.046   \n",
      " Local Group | -           | -            | -           | 4.316       | 0.054   \n",
      "\n"
     ]
    }
   ],
   "source": [
    "# print out table\n",
    "print()\n",
    "print(\"Galaxy Name  | Halo Mass   |  Disk Mass   | Bulge Mass  | Total Mass  | f_bar \")\n",
    "print(\"             | [1e12 Msun] |  [1e12 Msun] | [1e12 Msun] | [1e12 Msun] |       \")\n",
    "print(\"-------------|-------------|--------------|-------------|-------------|-------\")\n",
    "print(\" Milky Way   | {:<8.3f}    | {:<8.3f}     | {:<8.3f}    | {:<8.3f}    | {:<8.3f}\".format(MW_halo, MW_disk, MW_bulge, MW_total, MW_f_bar))\n",
    "print(\" M31         | {:<8.3f}    | {:<8.3f}     | {:<8.3f}    | {:<8.3f}    | {:<8.3f}\".format(M31_halo, M31_disk, M31_bulge, M31_total, M31_f_bar))\n",
    "print(\" M33         | {:<8.3f}    | {:<8.3f}     | -           | {:<8.3f}    | {:<8.3f}\".format(M33_halo, M33_disk, M33_total, M33_f_bar))\n",
    "print(\" Local Group | -           | -            | -           | {:<8.3f}    | {:<8.3f}\".format(LG_total, LG_f_bar))\n",
    "print()"
   ]
  },
  {
   "cell_type": "code",
   "execution_count": null,
   "metadata": {
    "collapsed": true
   },
   "outputs": [],
   "source": []
  }
 ],
 "metadata": {
  "kernelspec": {
   "display_name": "Python 3 (ipykernel)",
   "language": "python",
   "name": "python3"
  },
  "language_info": {
   "codemirror_mode": {
    "name": "ipython",
    "version": 3
   },
   "file_extension": ".py",
   "mimetype": "text/x-python",
   "name": "python",
   "nbconvert_exporter": "python",
   "pygments_lexer": "ipython3",
   "version": "3.9.13"
  }
 },
 "nbformat": 4,
 "nbformat_minor": 2
}
