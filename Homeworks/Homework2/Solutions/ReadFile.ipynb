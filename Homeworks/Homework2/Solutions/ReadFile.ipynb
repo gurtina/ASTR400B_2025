{
 "cells": [
  {
   "cell_type": "code",
   "execution_count": 4,
   "metadata": {},
   "outputs": [],
   "source": [
    "# Homework 2\n",
    "# G Besla\n",
    "\n",
    "# Load Modules\n",
    "import numpy as np\n",
    "import astropy.units as u"
   ]
  },
  {
   "cell_type": "code",
   "execution_count": 5,
   "metadata": {},
   "outputs": [],
   "source": [
    "def Read(filename):\n",
    "    \"\"\" Function to read in our data file\n",
    "    \n",
    "    Input:  \n",
    "        filename: str\n",
    "            e.g. \"MW_000.txt\"\n",
    "        \n",
    "    Outputs: \n",
    "        time: astropy quantity\n",
    "            Time of snapshot in Myr\n",
    "        total: float\n",
    "            Total number of particles \n",
    "        data: array of floats\n",
    "            An array with the particle data, including position \n",
    "            vectors, velocity vectors and mass\n",
    "            \n",
    "    Example usage:  time, total, data = Read(\"filename\")\n",
    "    \"\"\"\n",
    "    \n",
    "    \n",
    "    # open the file \n",
    "    file = open(filename,'r')\n",
    "    \n",
    "    #read header info line by line (line will be a string)\n",
    "    # read first two lines FIRST and store as variable\n",
    "    \n",
    "    # read and store time\n",
    "    line1 = file.readline() # read the full line\n",
    "    label, value = line1.split() # split the line using empty space as the delimiter, storing as new variables\n",
    "    time = float(value)*u.Myr # store time in units of Myr\n",
    "\n",
    "    # read and store total number of particles\n",
    "    line2 = file.readline() # read the full line \n",
    "    label, value = line2.split() # split the line using empty space as the delimiter, storing as new variables\n",
    "    total = float(value) # store the total number of particles\n",
    "    \n",
    "    # close file\n",
    "    file.close()\n",
    "\n",
    "    # read the remainder of the file, \n",
    "    # \"dtype=None\" specifies data type. None is default float\n",
    "    # default delimiter is line is split using white spaces\n",
    "    # \"skip_header=3\"  skipping the first 3 lines \n",
    "    # the flag \"names=True\" creates arrays to store the date\n",
    "    #       with the column headers given in line 4 like \"m\", \"x\"\n",
    "    \n",
    "    data = np.genfromtxt(filename,dtype=None,names=True,skip_header=3)\n",
    "    \n",
    "    # Note, another option is loadtxt, skipping the first 3 rows.  \n",
    "    # data = np.loadtxt(filename,skiprows=3)\n",
    "    # But this loses the information in the headers\n",
    "    \n",
    "    # this will return the time of the snapshot, \n",
    "    #total number of particles \n",
    "    #and an array that stores the remainder of the data. \n",
    "    return time, total, data"
   ]
  },
  {
   "cell_type": "markdown",
   "metadata": {},
   "source": [
    "Checking to see if the code works:"
   ]
  },
  {
   "cell_type": "code",
   "execution_count": 6,
   "metadata": {},
   "outputs": [],
   "source": [
    "time, total, data =Read(\"MW_000.txt\")"
   ]
  },
  {
   "cell_type": "code",
   "execution_count": 7,
   "metadata": {},
   "outputs": [
    {
     "name": "stdout",
     "output_type": "stream",
     "text": [
      "Time of the snapshot 0.0 Myr\n"
     ]
    }
   ],
   "source": [
    "print(\"Time of the snapshot\", time)"
   ]
  },
  {
   "cell_type": "code",
   "execution_count": 8,
   "metadata": {},
   "outputs": [
    {
     "name": "stdout",
     "output_type": "stream",
     "text": [
      "The total number of particles is 135000.0\n"
     ]
    }
   ],
   "source": [
    "print(\"The total number of particles is\", total)"
   ]
  },
  {
   "cell_type": "code",
   "execution_count": 13,
   "metadata": {},
   "outputs": [
    {
     "name": "stdout",
     "output_type": "stream",
     "text": [
      "The mass of the first particle is 39498500.0 solMass\n"
     ]
    }
   ],
   "source": [
    "#Mass of first particle, if you used loadgenfromtxt\n",
    "m1 = np.round(data['m'][0]*u.Msun*1e10)\n",
    "print(\"The mass of the first particle is\", m1)"
   ]
  },
  {
   "cell_type": "code",
   "execution_count": 14,
   "metadata": {},
   "outputs": [],
   "source": [
    "# if you used loadtxt, first store the mass of all particles \n",
    "# in a new array\n",
    "# i.e. store the 2nd column\n",
    "#Mass = data[:,1]\n",
    "# Print the Mass of the first particle\n",
    "#Mass[0]*u.Msun*1e10"
   ]
  },
  {
   "cell_type": "code",
   "execution_count": 16,
   "metadata": {},
   "outputs": [
    {
     "name": "stdout",
     "output_type": "stream",
     "text": [
      "Data type of the first Particle is 1.0\n"
     ]
    }
   ],
   "source": [
    "# Type of first particle\n",
    "print(\"Data type of the first Particle is\", data['type'][0])"
   ]
  },
  {
   "cell_type": "code",
   "execution_count": null,
   "metadata": {},
   "outputs": [],
   "source": []
  }
 ],
 "metadata": {
  "kernelspec": {
   "display_name": "Python 3 (ipykernel)",
   "language": "python",
   "name": "python3"
  },
  "language_info": {
   "codemirror_mode": {
    "name": "ipython",
    "version": 3
   },
   "file_extension": ".py",
   "mimetype": "text/x-python",
   "name": "python",
   "nbconvert_exporter": "python",
   "pygments_lexer": "ipython3",
   "version": "3.9.13"
  }
 },
 "nbformat": 4,
 "nbformat_minor": 2
}
