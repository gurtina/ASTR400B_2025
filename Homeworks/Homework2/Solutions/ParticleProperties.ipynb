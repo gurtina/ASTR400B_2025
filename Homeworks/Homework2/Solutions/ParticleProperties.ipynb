{
 "cells": [
  {
   "cell_type": "code",
   "execution_count": 2,
   "metadata": {},
   "outputs": [],
   "source": [
    "# GB : ASTR 400B Solutions to PSet 2 \n",
    "# ParticleInfo\n",
    "\n",
    "# load module\n",
    "import numpy as np\n",
    "import astropy.units as u\n",
    "from ReadFile import Read"
   ]
  },
  {
   "cell_type": "code",
   "execution_count": 3,
   "metadata": {},
   "outputs": [],
   "source": [
    "\n",
    "def ParticleInfo(PType, PNum, filename):\n",
    "  \n",
    "    \"\"\" Function to return properties of a particle of a given type\n",
    "    \n",
    "    Input: \n",
    "        PType: int\n",
    "            particle type, e.g. Halo: 1, Disk: 2, Bulge: 3\n",
    "        PNum: int \n",
    "            particle number, (e.g. 100)\n",
    "        filename: str\n",
    "            (e.g. \"MW_000.txt\")\n",
    "        \n",
    "    Output: \n",
    "        R3D: astropy quantity\n",
    "            Magnitude of 3D Pos vector (kpc)\n",
    "        V3D: astropy quantity\n",
    "            Magnitude of 3D Velocity vector (km/s)\n",
    "        Mass: astropy quantity\n",
    "            Mass of the Particle (Msun)\n",
    "    \"\"\"\n",
    "\n",
    "\n",
    "    # read in the file \n",
    "    time, total, data = Read(filename)\n",
    "\n",
    "    \n",
    "    #create an array to store indexes of particles of desired Ptype\n",
    "    index = np.where(data['type'] == PType)\n",
    "\n",
    "    # create new arrays with the m, x, y, z, \n",
    "    # vx, vy, vz of just the Ptype desired\n",
    "    # Add units using Astropy\n",
    "    # Recall Mass was stored in units of Msun/1e10\n",
    "    mnew = data['m'][index]*1e10*u.Msun\n",
    "    xnew = data['x'][index]*u.kpc\n",
    "    ynew = data['y'][index]*u.kpc\n",
    "    znew = data['z'][index]*u.kpc\n",
    "    vxnew = data['vx'][index]*u.km/u.s\n",
    "    vynew = data['vy'][index]*u.km/u.s\n",
    "    vznew = data['vz'][index]*u.km/u.s\n",
    "    \n",
    "    # Compute the Magnitude of the 3D position of the desired particle (at index PNum-1)\n",
    "    # Value is rounded to 3 decimal places.\n",
    "    R3D = np.round(np.sqrt(xnew[PNum-1]**2 + ynew[PNum-1]**2 + znew[PNum-1]**2),3)\n",
    "    \n",
    "    # Compute the magnitude of the 3D velocity of the desired particle (at index PNum-1)\n",
    "    # Value is rounded to 3 decimal places.\n",
    "    V3D = np.round(np.sqrt(vxnew[PNum-1]**2 + vynew[PNum-1]**2 + vznew[PNum-1]**2),3)\n",
    "    \n",
    "    # Mass\n",
    "    # Value is rounded to 3 decimal places\n",
    "    Mass = np.round(mnew[PNum-1],3)\n",
    "        \n",
    "    return R3D, V3D, Mass\n",
    "    \n",
    "    "
   ]
  },
  {
   "cell_type": "code",
   "execution_count": 4,
   "metadata": {},
   "outputs": [],
   "source": [
    "R3D, V3D, Mass = ParticleInfo(2,100,\"MW_000.txt\")"
   ]
  },
  {
   "cell_type": "code",
   "execution_count": 5,
   "metadata": {},
   "outputs": [
    {
     "name": "stdout",
     "output_type": "stream",
     "text": [
      "Magnitude of the distance of the 100th particle is 4.245 kpc\n"
     ]
    }
   ],
   "source": [
    "print(\"Magnitude of the distance of the 100th particle is\",R3D)"
   ]
  },
  {
   "cell_type": "code",
   "execution_count": 6,
   "metadata": {},
   "outputs": [
    {
     "name": "stdout",
     "output_type": "stream",
     "text": [
      "Magnitude of the velocity of the 100th particle is 312.135 km / s\n"
     ]
    }
   ],
   "source": [
    "print(\"Magnitude of the velocity of the 100th particle is\",V3D)"
   ]
  },
  {
   "cell_type": "code",
   "execution_count": 7,
   "metadata": {},
   "outputs": [
    {
     "name": "stdout",
     "output_type": "stream",
     "text": [
      "Mass of the 100th particle is 1000000.0 solMass\n"
     ]
    }
   ],
   "source": [
    "print(\"Mass of the 100th particle is\", Mass)"
   ]
  },
  {
   "cell_type": "code",
   "execution_count": 8,
   "metadata": {},
   "outputs": [
    {
     "name": "stdout",
     "output_type": "stream",
     "text": [
      "Distance of the 100th particle in lightyears is 13845.338 lyr\n"
     ]
    }
   ],
   "source": [
    "print(\"Distance of the 100th particle in lightyears is\", np.round(R3D.to(u.lyr),3))"
   ]
  },
  {
   "cell_type": "code",
   "execution_count": null,
   "metadata": {},
   "outputs": [],
   "source": []
  }
 ],
 "metadata": {
  "kernelspec": {
   "display_name": "Python 3 (ipykernel)",
   "language": "python",
   "name": "python3"
  },
  "language_info": {
   "codemirror_mode": {
    "name": "ipython",
    "version": 3
   },
   "file_extension": ".py",
   "mimetype": "text/x-python",
   "name": "python",
   "nbconvert_exporter": "python",
   "pygments_lexer": "ipython3",
   "version": "3.9.13"
  }
 },
 "nbformat": 4,
 "nbformat_minor": 2
}
